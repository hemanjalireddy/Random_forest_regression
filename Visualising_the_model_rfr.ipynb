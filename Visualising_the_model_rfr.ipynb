{
  "nbformat": 4,
  "nbformat_minor": 0,
  "metadata": {
    "colab": {
      "name": "Visualising_the_model_rfr.ipynb",
      "provenance": [],
      "authorship_tag": "ABX9TyPVXcX+e6mQ5KYHvVbNzYvv",
      "include_colab_link": true
    },
    "kernelspec": {
      "name": "python3",
      "display_name": "Python 3"
    },
    "language_info": {
      "name": "python"
    }
  },
  "cells": [
    {
      "cell_type": "markdown",
      "metadata": {
        "id": "view-in-github",
        "colab_type": "text"
      },
      "source": [
        "<a href=\"https://colab.research.google.com/github/hemanjalireddy/Random_forest_regression/blob/main/Visualising_the_model_rfr.ipynb\" target=\"_parent\"><img src=\"https://colab.research.google.com/assets/colab-badge.svg\" alt=\"Open In Colab\"/></a>"
      ]
    },
    {
      "cell_type": "markdown",
      "source": [
        "# Random Forest Regression"
      ],
      "metadata": {
        "id": "EJATBFT52Go9"
      }
    },
    {
      "cell_type": "markdown",
      "source": [
        "## Import the libraries"
      ],
      "metadata": {
        "id": "bA5dAFzP2SY8"
      }
    },
    {
      "cell_type": "code",
      "source": [
        "import numpy as np\n",
        "import pandas as pd\n",
        "import matplotlib.pyplot as plt\n",
        "import seaborn as sns\n",
        "sns.set()"
      ],
      "metadata": {
        "id": "b6lB8-fL2P2i"
      },
      "execution_count": 1,
      "outputs": []
    },
    {
      "cell_type": "markdown",
      "source": [
        "## Load the data"
      ],
      "metadata": {
        "id": "60AkjJWP2VWs"
      }
    },
    {
      "cell_type": "code",
      "execution_count": 2,
      "metadata": {
        "id": "VWi3yC0m2CjE"
      },
      "outputs": [],
      "source": [
        "data = pd.read_csv('/content/Position_Salaries.csv')\n",
        "x = data.iloc[: , 1:-1].values\n",
        "y = data.iloc[: , -1].values"
      ]
    },
    {
      "cell_type": "markdown",
      "source": [
        "## Train the data on the whole dataset"
      ],
      "metadata": {
        "id": "Fb3wxfyw2mGs"
      }
    },
    {
      "cell_type": "code",
      "source": [
        "from sklearn.ensemble import RandomForestRegressor\n",
        "regressor = RandomForestRegressor(n_estimators=10 ,random_state=0)\n",
        "regressor.fit(x,y)\n",
        "regressor.score(x,y)"
      ],
      "metadata": {
        "colab": {
          "base_uri": "https://localhost:8080/"
        },
        "id": "WEi79P0H2ozO",
        "outputId": "e3b83c4d-57e7-492f-8dbf-fc1f90aa712b"
      },
      "execution_count": 3,
      "outputs": [
        {
          "output_type": "execute_result",
          "data": {
            "text/plain": [
              "0.9704434230386582"
            ]
          },
          "metadata": {},
          "execution_count": 3
        }
      ]
    },
    {
      "cell_type": "markdown",
      "source": [
        "## Predictions"
      ],
      "metadata": {
        "id": "3nEuWKbB3zKF"
      }
    },
    {
      "cell_type": "code",
      "source": [
        "regressor.predict([[6.5]])"
      ],
      "metadata": {
        "colab": {
          "base_uri": "https://localhost:8080/"
        },
        "id": "26-avKE338GT",
        "outputId": "ccd9580c-225e-4fd4-f181-38f9b785df06"
      },
      "execution_count": 4,
      "outputs": [
        {
          "output_type": "execute_result",
          "data": {
            "text/plain": [
              "array([167000.])"
            ]
          },
          "metadata": {},
          "execution_count": 4
        }
      ]
    },
    {
      "cell_type": "markdown",
      "source": [
        "## Visualising the Random Forest Regression (higher resolution)"
      ],
      "metadata": {
        "id": "ShGXRVWd4H-V"
      }
    },
    {
      "cell_type": "code",
      "source": [
        "x_grid = np.arange(min(x) , max(x) , 0.1)\n",
        "x_grid = x_grid.reshape((len(x_grid) , 1))\n",
        "plt.scatter(x ,y , color='red')\n",
        "plt.plot(x_grid , regressor.predict(x_grid) , color='blue')\n",
        "plt.title('Decision Tree Regression')\n",
        "plt.xlabel('Level')\n",
        "plt.ylabel('Salary')\n",
        "plt.show()"
      ],
      "metadata": {
        "colab": {
          "base_uri": "https://localhost:8080/",
          "height": 301
        },
        "id": "Kyb9nlM64PuV",
        "outputId": "13d8502e-09a5-4aee-8878-4d0151adb5a9"
      },
      "execution_count": 5,
      "outputs": [
        {
          "output_type": "display_data",
          "data": {
            "text/plain": [
              "<Figure size 432x288 with 1 Axes>"
            ],
            "image/png": "[encoded data removed]"
          },
          "metadata": {
            "needs_background": "light"
          }
        }
      ]
    }
  ]
}